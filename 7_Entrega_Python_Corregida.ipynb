{
  "nbformat": 4,
  "nbformat_minor": 0,
  "metadata": {
    "colab": {
      "name": "7. Entrega Python Corregida.ipynb",
      "provenance": [],
      "collapsed_sections": [],
      "include_colab_link": true
    },
    "kernelspec": {
      "display_name": "Python 3",
      "language": "python",
      "name": "python3"
    }
  },
  "cells": [
    {
      "cell_type": "markdown",
      "metadata": {
        "id": "view-in-github",
        "colab_type": "text"
      },
      "source": [
        "<a href=\"https://colab.research.google.com/github/Leerith/Metodos.compartido/blob/main/7_Entrega_Python_Corregida.ipynb\" target=\"_parent\"><img src=\"https://colab.research.google.com/assets/colab-badge.svg\" alt=\"Open In Colab\"/></a>"
      ]
    },
    {
      "cell_type": "markdown",
      "metadata": {
        "id": "MuITK0qq5Ues"
      },
      "source": [
        "Entrega de Métodos Numéricos I (Sara del Pozo, 1498507)\n",
        "====\n"
      ]
    },
    {
      "cell_type": "markdown",
      "metadata": {
        "id": "EmAhOb8_5Uex"
      },
      "source": [
        "Este programa genera números aleatorios que están distribuidos como una distribución de Cauchy usando el método Monte Carlo. Se piden resultados intermedios y se representan los números generados en dos gráficas.\n"
      ]
    },
    {
      "cell_type": "markdown",
      "metadata": {
        "id": "GHbpQ4Dt5Ue1"
      },
      "source": [
        "**1. Importa las librerías numpy, scipy.stats y matplotlib.pyplot.**\n",
        "\n",
        "\n",
        "\n",
        "\n",
        "\n",
        "\n",
        "\n",
        "\n",
        "\n",
        "\n",
        "\n",
        "\n",
        "\n",
        "\n",
        "\n",
        "\n"
      ]
    },
    {
      "cell_type": "code",
      "metadata": {
        "id": "2w1cCBQi5Ue4"
      },
      "source": [
        "import numpy as np\n",
        "import scipy.stats as ss\n",
        "import matplotlib.pyplot as plt\n",
        "\n",
        "#Esta es mi entrega de mn1 corregida por el flix, para que os fiéis de que es un código yo creo que bastante bueno :)\n",
        "#Fijaos en que realmente casi nunca calculamos nada, literalmente le decimos a python \"ordenador, calcula esto!\""
      ],
      "execution_count": null,
      "outputs": []
    },
    {
      "cell_type": "markdown",
      "metadata": {
        "id": "PUEPjCO35Ue_"
      },
      "source": [
        "**2. Obten 50 números espaciados uniformemente entre -4 y 4. Escribe la media, mediana, desviación estándar y varianza de estos números.**\n",
        "\n",
        "\n",
        "\n",
        "\n"
      ]
    },
    {
      "cell_type": "code",
      "metadata": {
        "id": "bHibBLZFawEw",
        "colab": {
          "base_uri": "https://localhost:8080/"
        },
        "outputId": "638f96a9-962a-4a45-957b-53b1b5a09402"
      },
      "source": [
        "x=np.linspace(-4,4,50)\n",
        "print('μ=',np.mean(x))\n",
        "print('m=',np.median(x))\n",
        "print('σ=',np.std(x))\n",
        "print('v=',np.var(x))"
      ],
      "execution_count": null,
      "outputs": [
        {
          "output_type": "stream",
          "text": [
            "μ= -2.842170943040401e-16\n",
            "m= 0.0\n",
            "σ= 2.356060357495806\n",
            "v= 5.551020408163265\n"
          ],
          "name": "stdout"
        }
      ]
    },
    {
      "cell_type": "markdown",
      "metadata": {
        "id": "Y3vGFsHndsFk"
      },
      "source": [
        "**3. Accede a la distribución de Cauchy a partir de scipy y escribe la media, la desviación estándar, la distribución cumulativa en 0 y \n",
        "el máximo de esta distribución. Razona por qué se obtienen esos valores para la media y la desviación estándar.**\n"
      ]
    },
    {
      "cell_type": "code",
      "metadata": {
        "id": "Wa35WBqjfn08",
        "colab": {
          "base_uri": "https://localhost:8080/"
        },
        "outputId": "43ad36aa-8fe3-4741-8666-cc74d7dcd6f6"
      },
      "source": [
        "print('μ=',ss.cauchy.mean(0))\n",
        "print('σ=',ss.cauchy.std(0))\n",
        "print('F(x)=',ss.cauchy.cdf(0)) \n",
        "Y=ss.cauchy.pdf(0)\n",
        "print('Máx(f)=',Y) #Dada la expresión analítica de la función, el máximo debe estar en x=0\n",
        "print('Vemos que tanto la media como la desviación estándar de la distribución producen un error al intentar calularse.')\n",
        "print('Esto se debe a que las integrales impropias evaluadas entre menos infinito y más infinito de xf(x) y x^2f(x) son divergentes.')\n",
        "print('Por tanto, la media y la desviación estándar de esta distribución quedan no definidas.')"
      ],
      "execution_count": null,
      "outputs": [
        {
          "output_type": "stream",
          "text": [
            "μ= nan\n",
            "σ= nan\n",
            "F(x)= 0.5\n",
            "Máx(f)= 0.3183098861837907\n",
            "Vemos que tanto la media como la desviación estándar de la distribución producen un error al intentar calularse.\n",
            "Esto se debe a que las integrales impropias evaluadas entre menos infinito y más infinito de xf(x) y x^2f(x) son divergentes.\n",
            "Por tanto, la media y la desviación estándar de esta distribución quedan no definidas.\n"
          ],
          "name": "stdout"
        }
      ]
    },
    {
      "cell_type": "markdown",
      "metadata": {
        "id": "wJTDbv2ahVWW"
      },
      "source": [
        "**4. Para los 50 números espaciados uniformemente entre -4 y 4, dibuja la correspodiente distribución de Cauchy e indica en una gráfica donde se aceptarán y se rechazarán valores de la ordenada en el método Monte Carlo para x = 1.**\n",
        "\n"
      ]
    },
    {
      "cell_type": "code",
      "metadata": {
        "id": "VmYG9eek5UfG",
        "cellView": "both",
        "colab": {
          "base_uri": "https://localhost:8080/",
          "height": 265
        },
        "outputId": "8eb76eba-9fba-4cd0-e8ce-2803e96dda99"
      },
      "source": [
        "f=ss.cauchy.pdf(x)\n",
        "y=np.linspace(0,Y,50)\n",
        "\n",
        "acep = y <= ss.cauchy.pdf(1) #valores aceptados\n",
        "rech = y > ss.cauchy.pdf(1) #valores rechazados\n",
        "\n",
        "plt.plot(x,f)\n",
        "plt.plot(np.linspace(1,1,len(y[acep])), y[acep], 'g')\n",
        "plt.plot(np.linspace(1,1,len(y[rech])), y[rech], 'r')\n",
        "\n",
        "plt.show() #Cabe decir que no estamos utilizando el método de Monte Carlo, estamos representando que puntos se aceptarían y cuáles no."
      ],
      "execution_count": null,
      "outputs": [
        {
          "output_type": "display_data",
          "data": {
            "image/png": "[encoded data removed]",
            "text/plain": [
              "<Figure size 432x288 with 1 Axes>"
            ]
          },
          "metadata": {
            "tags": [],
            "needs_background": "light"
          }
        }
      ]
    },
    {
      "cell_type": "markdown",
      "metadata": {
        "id": "1Fzg7DOR5UfQ"
      },
      "source": [
        "**5. Genera números aleatorios distribuidos uniformemente entre -4 y 4. A partir de qué potencia de 10 el error en la desviación estándar es menor que 2 por mil.**\n",
        "\n",
        "\n",
        "\n",
        "\n",
        "\n"
      ]
    },
    {
      "cell_type": "code",
      "metadata": {
        "id": "LksBbEf8jTU8",
        "colab": {
          "base_uri": "https://localhost:8080/",
          "height": 153
        },
        "outputId": "c6e55f31-c540-4ec2-94f3-0ba597d4e61d"
      },
      "source": [
        "E=1\n",
        "n=0\n",
        "\n",
        "while E >= 0.002:\n",
        "  n=n+1\n",
        "  a=10**n\n",
        "  A=np.random.uniform(-4,4,a)\n",
        "  E=np.std(A)/np.sqrt(a)\n",
        "  print('n=10^',n,';   E=',E)\n",
        "print('Cuando la potencia de 10 ha alcanzado',n, 'el error se ha reducido hasta ',E) #Por lo que he visto, el valor siempre es n=7\n"
      ],
      "execution_count": null,
      "outputs": [
        {
          "output_type": "stream",
          "text": [
            "n=10^ 1 ;   E= 0.7296508706816115\n",
            "n=10^ 2 ;   E= 0.21243703085853047\n",
            "n=10^ 3 ;   E= 0.07439118766937262\n",
            "n=10^ 4 ;   E= 0.023238216748251928\n",
            "n=10^ 5 ;   E= 0.007315590040776966\n",
            "n=10^ 6 ;   E= 0.002309471086323715\n",
            "n=10^ 7 ;   E= 0.0007302717301150421\n",
            "Cuando la potencia de 10 ha alcanzado 7 el error se ha reducido hasta  0.0007302717301150421\n"
          ],
          "name": "stdout"
        }
      ]
    },
    {
      "cell_type": "markdown",
      "metadata": {
        "id": "jhS_8eqhnGM8"
      },
      "source": [
        "**6. Genera números aleatorios entre 0 y el máximo de la distribución de Cauchy y acepta únicamente aquellos que satisfacen la condición Monte Carlo. Escribe la media y la desviación estándar de la distribución de los números aceptados.**\n"
      ]
    },
    {
      "cell_type": "code",
      "metadata": {
        "id": "BfgCzGksnSqx",
        "colab": {
          "base_uri": "https://localhost:8080/",
          "height": 337
        },
        "outputId": "443acd56-cd6d-48d3-c3b7-2d05dd126054"
      },
      "source": [
        "t=np.random.uniform(-4,4,1000000)\n",
        "g=ss.cauchy.pdf(t)\n",
        "u=np.random.uniform(0,Y,1000000)\n",
        "\n",
        "ACEP = u <= g #Aceptamos los puntos (u,t) que cumplen u<=g(t)\n",
        "\n",
        "print('μ(y)=',np.mean(u[ACEP])) #Media de las ordenadas de los puntos aceptados\n",
        "print('σ(y)=',np.std(u[ACEP])) #Desviación de las ordenadas de los puntos aceptados\n",
        "\n",
        "print('μ(x)=',np.mean(t[ACEP])) #Media de las abscisas de los puntos aceptados\n",
        "print('σ(x)=',np.std(t[ACEP])) #Desviación de las abscisas de los puntos aceptados\n",
        "\n",
        "# J. Flix (perfectíssim! i molt ràpid)\n",
        "\n",
        "# J. Flix: afegeixo gràfica en aquesta part\n",
        "plt.scatter(t[ACEP],u[ACEP],s=1,color='green')\n",
        "plt.plot(x,f,'k',lw=3)\n",
        "plt.show()\n"
      ],
      "execution_count": null,
      "outputs": [
        {
          "output_type": "stream",
          "text": [
            "μ(y)= 0.09346729959991845\n",
            "σ(y)= 0.078791213891823\n",
            "μ(x)= -0.003500757535123927\n",
            "σ(x)= 1.4222188161356242\n"
          ],
          "name": "stdout"
        },
        {
          "output_type": "display_data",
          "data": {
            "image/png": "[encoded data removed]",
            "text/plain": [
              "<Figure size 432x288 with 1 Axes>"
            ]
          },
          "metadata": {
            "tags": []
          }
        }
      ]
    },
    {
      "cell_type": "markdown",
      "metadata": {
        "id": "XOCo9IGopz3J"
      },
      "source": [
        "**7. Dibuja en una gráfica la distribución de Cauchy de los números espaciados uniformemente entre -4 y 4 del principio junto al histograma de los números generados según la distribución de Cauchy de 6 teniendo en cuenta que el área del histograma de los números de 6 debe de coincidir con el área de la distribución de Cauchy en tal intervalo.**\n"
      ]
    },
    {
      "cell_type": "code",
      "metadata": {
        "id": "ZYmX12C29ADh",
        "colab": {
          "base_uri": "https://localhost:8080/",
          "height": 269
        },
        "outputId": "1ad25fff-0bf2-4e07-ea75-a7d5717e9f9a"
      },
      "source": [
        "h=np.histogram(t[ACEP],bins=x)[0]\n",
        "w=(Y/h[24])*np.ones(len(t[ACEP]))\n",
        "plt.plot(x,f)\n",
        "plt.hist(t[ACEP],x, weights=w)\n",
        "\n",
        "plt.show() # J. Flix: Perfect! \n",
        "\n"
      ],
      "execution_count": null,
      "outputs": [
        {
          "output_type": "display_data",
          "data": {
            "image/png": "[encoded data removed]",
            "text/plain": [
              "<Figure size 432x288 with 1 Axes>"
            ]
          },
          "metadata": {
            "tags": []
          }
        }
      ]
    }
  ]
}
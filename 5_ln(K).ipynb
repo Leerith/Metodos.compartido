{
  "nbformat": 4,
  "nbformat_minor": 0,
  "metadata": {
    "colab": {
      "name": "5. ln(K)",
      "provenance": [],
      "collapsed_sections": [],
      "include_colab_link": true
    },
    "kernelspec": {
      "name": "python3",
      "display_name": "Python 3"
    }
  },
  "cells": [
    {
      "cell_type": "markdown",
      "metadata": {
        "id": "view-in-github",
        "colab_type": "text"
      },
      "source": [
        "<a href=\"https://colab.research.google.com/github/Leerith/Metodos.compartido/blob/main/5_ln(K).ipynb\" target=\"_parent\"><img src=\"https://colab.research.google.com/assets/colab-badge.svg\" alt=\"Open In Colab\"/></a>"
      ]
    },
    {
      "cell_type": "markdown",
      "metadata": {
        "id": "OvsWFKOqGCWK"
      },
      "source": [
        "Cálculo logaritmo natural de $K\\in\\mathbf{R}$ vía integración de 1/x"
      ]
    },
    {
      "cell_type": "code",
      "metadata": {
        "id": "E6P35-Ys4kn1",
        "colab": {
          "base_uri": "https://localhost:8080/"
        },
        "outputId": "ace54cfc-d65e-4d5f-b67e-7102cde6e554"
      },
      "source": [
        "#Este es un programa chorra pero que enseña bastante bien algo que veréis mucho: la integración numérica de riemann, la más sencilla\n",
        "#Consiste simplemente en separar un intervalo de integración en una burrada de cortes y hacer la suma de f(x)Δx y coger eso como integral\n",
        "#No es ni de lejos el método más eficiente para integrar, en métodos numéricos 2 veréis otros. Es más bien una prueba de fuerza bruta computacional\n",
        "#Yo lo he hecho de manera que al correr el programa, os pedirá un número, y cuando lo pongáis, calculara la integral de 1 hasta ese número de 1/x\n",
        "#Es decir ln(número)-ln(1)=ln(número)-0=ln(número), y lo hará varias veces. La primera vez solo tomará un corte en el intervalo (saldra un número ~1)\n",
        "#Porque estará haciendo (1/K)(K-1). La segunda vez hará 10 cortes, la tercera 100, y así hasta 10 millones de cortes, así podéis ver como converge.\n",
        "#Esto se hace mucho: cuando ves que por mucho que separes en más cortes el valor ya no cambia, lo das por bueno\n",
        "#Obviamente, funciona mejor para números más pequeños, probad los límites de mi programa :p\n",
        "#ALSO: solo funciona para números >1, me da pereza buscar como arreglarlo, si queréis podéis probar :D\n",
        "\n",
        "K=float(input(\"K=\"))\n",
        "n=1\n",
        "\n",
        "def f(x):\n",
        "  return 1/x\n",
        "\n",
        "while(n <= 10000000):\n",
        "  x = 1\n",
        "  I = 0\n",
        "  h = (K-1)/n\n",
        "  while(x < K):\n",
        "    x = x+h\n",
        "    I = I+h*f(x)\n",
        "  print(\"ln(K)=\",I)\n",
        "  n = 10*n"
      ],
      "execution_count": null,
      "outputs": [
        {
          "output_type": "stream",
          "text": [
            "K=1.5\n",
            "ln(K)= 0.3333333333333333\n",
            "ln(K)= 0.3972474737767091\n",
            "ln(K)= 0.4079551913142731\n",
            "ln(K)= 0.4057150086081596\n",
            "ln(K)= 0.40545677489041965\n",
            "ln(K)= 0.40546427477552416\n",
            "ln(K)= 0.4054650247647555\n",
            "ln(K)= 0.4054651332262396\n"
          ],
          "name": "stdout"
        }
      ]
    }
  ]
}
{
  "nbformat": 4,
  "nbformat_minor": 0,
  "metadata": {
    "colab": {
      "name": "1. Genera tu propio pene",
      "provenance": [],
      "collapsed_sections": [],
      "include_colab_link": true
    },
    "kernelspec": {
      "name": "python3",
      "display_name": "Python 3"
    }
  },
  "cells": [
    {
      "cell_type": "markdown",
      "metadata": {
        "id": "view-in-github",
        "colab_type": "text"
      },
      "source": [
        "<a href=\"https://colab.research.google.com/github/Leerith/Metodos.compartido/blob/main/1_Genera_tu_propio_pene.ipynb\" target=\"_parent\"><img src=\"https://colab.research.google.com/assets/colab-badge.svg\" alt=\"Open In Colab\"/></a>"
      ]
    },
    {
      "cell_type": "markdown",
      "metadata": {
        "id": "OvsWFKOqGCWK"
      },
      "source": [
        "Dibuja un pene de $n$ 'iguales' de longitud."
      ]
    },
    {
      "cell_type": "code",
      "metadata": {
        "id": "E6P35-Ys4kn1",
        "colab": {
          "base_uri": "https://localhost:8080/"
        },
        "outputId": "2414c873-816f-4508-d2bd-49d90be136a7"
      },
      "source": [
        "#Genera un pene de n 'iguales' de longitud. No juzguéis, era joven e inmadura :')\n",
        "\n",
        "n=int(input('¿Qué número de iguales quieres? '))\n",
        "\n",
        "a='8'\n",
        "\n",
        "while(n > 0):\n",
        "  n=n-1\n",
        "  a=a+'='\n",
        "a=a+'D--- (.)(.)'\n",
        "print(a)"
      ],
      "execution_count": null,
      "outputs": [
        {
          "output_type": "stream",
          "text": [
            "¿Qué número de iguales quieres? 37\n",
            "8=====================================D--- (.)(.)\n"
          ],
          "name": "stdout"
        }
      ]
    }
  ]
}